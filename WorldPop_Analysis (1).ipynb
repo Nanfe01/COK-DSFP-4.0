{
  "nbformat": 4,
  "nbformat_minor": 0,
  "metadata": {
    "colab": {
      "provenance": [],
      "toc_visible": true
    },
    "kernelspec": {
      "name": "python3",
      "display_name": "Python 3"
    },
    "language_info": {
      "name": "python"
    }
  },
  "cells": [
    {
      "cell_type": "markdown",
      "source": [
        "## Table Extraction"
      ],
      "metadata": {
        "id": "hovqVEUWsZUy"
      }
    },
    {
      "cell_type": "code",
      "source": [
        "import requests\n",
        "from bs4 import BeautifulSoup\n",
        "import pandas as pd\n",
        "\n",
        "# Fetching the webpage\n",
        "url = 'https://www.worldometers.info/world-population/population-by-country/'\n",
        "response = requests.get(url)\n",
        "\n",
        "#Parsing the HTML content\n",
        "soup = BeautifulSoup(response.text, 'html.parser')\n",
        "\n",
        "#Locating the table with the class 'table'\n",
        "table = soup.find('table', {'class': 'table'})\n",
        "\n"
      ],
      "metadata": {
        "id": "NaB6-N4tq_8J"
      },
      "execution_count": null,
      "outputs": []
    },
    {
      "cell_type": "code",
      "source": [
        "# Extracting the table headers (Country and Population)\n",
        "headers = [header.text.strip() for header in table.find_all('th')]\n",
        "\n",
        "# Extracting the rows (country and population data)\n",
        "rows = []\n",
        "for row in table.find_all('tr')[1:]:  # Skip header row\n",
        "    columns = row.find_all('td')\n",
        "    if len(columns) >= 4:  # Only keep rows with at least two columns\n",
        "        country = columns[1].text.strip()\n",
        "        population = columns[2].text.strip().replace(',', '')\n",
        "        fertility_rate = columns[8].text.strip()\n",
        "        land_area = columns[6].text.strip().replace(',', '')\n",
        "        rows.append([country, population, fertility_rate, land_area])\n"
      ],
      "metadata": {
        "id": "_jpuNTkAre85"
      },
      "execution_count": null,
      "outputs": []
    },
    {
      "cell_type": "code",
      "source": [
        "# Create a DataFrame\n",
        "df = pd.DataFrame(rows, columns=['Country', 'Population', 'Fertility Rate', 'Land Area'])\n",
        "\n",
        "# Convert numeric columns to appropriate data types\n",
        "df['Population'] = pd.to_numeric(df['Population'], errors='coerce')\n",
        "df['Fertility Rate'] = pd.to_numeric(df['Fertility Rate'], errors='coerce')\n",
        "df['Land Area'] = pd.to_numeric(df['Land Area'], errors='coerce')\n",
        "\n",
        "# Display the DataFrame\n",
        "print(\"\\nExtracted Country Data:\")\n",
        "print(df.head())  # Display the first few rows"
      ],
      "metadata": {
        "colab": {
          "base_uri": "https://localhost:8080/"
        },
        "id": "cNbTVnOsroRC",
        "outputId": "b32f6cb6-8efa-4f30-89ae-23f895eefe27"
      },
      "execution_count": null,
      "outputs": [
        {
          "output_type": "stream",
          "name": "stdout",
          "text": [
            "\n",
            "Extracted Country Data:\n",
            "         Country  Population  Fertility Rate  Land Area\n",
            "0          India  1450935791             2.0    2973190\n",
            "1          China  1419321278             1.0    9388211\n",
            "2  United States   345426571             1.6    9147420\n",
            "3      Indonesia   283487931             2.1    1811570\n",
            "4       Pakistan   251269164             3.5     770880\n"
          ]
        }
      ]
    },
    {
      "cell_type": "markdown",
      "source": [
        "This dataset contains population figures for countries across the globe. The data is sourced from Worldometer and provides insights into the relative sizes of populations, highlighting the most populous countries and comparing regions. With the total world population exceeding 8 billion, this data helps in understanding the demographic distribution, trends, and potential implications for global development."
      ],
      "metadata": {
        "id": "gZCXFCBXti3_"
      }
    },
    {
      "cell_type": "markdown",
      "source": [
        "## Exploratory Data Analysis (EDA)\n",
        "###### Exploratory Data Analysis (EDA) is a crucial step in understanding the dataset's structure, identifying patterns, and uncovering insights that might not be immediately apparent. In this analysis, we focus on global population data, examining the distribution and size of populations across different countries. By using EDA techniques, we aim to gain a deeper understanding of the global demographic landscape and its potential implications. The insights derived from this analysis will provide valuable context for exploring trends, challenges, and opportunities at both the country and continental levels.\n",
        "\n"
      ],
      "metadata": {
        "id": "g60IdWgMsF8B"
      }
    },
    {
      "cell_type": "code",
      "source": [
        "# Checking the shape of the dataset\n",
        "print(f\"Dataset Shape: {df.shape}\")\n"
      ],
      "metadata": {
        "colab": {
          "base_uri": "https://localhost:8080/"
        },
        "id": "JwliNLZjs019",
        "outputId": "5b70fcde-6098-4e43-f9fc-019b8a27db30"
      },
      "execution_count": null,
      "outputs": [
        {
          "output_type": "stream",
          "name": "stdout",
          "text": [
            "Dataset Shape: (234, 2)\n"
          ]
        }
      ]
    },
    {
      "cell_type": "code",
      "source": [
        "# Checking for missing values\n",
        "print(df.isnull().sum())\n"
      ],
      "metadata": {
        "colab": {
          "base_uri": "https://localhost:8080/"
        },
        "id": "tjOKN6kluqRd",
        "outputId": "a0f97687-a533-44a9-d827-bd017343d891"
      },
      "execution_count": null,
      "outputs": [
        {
          "output_type": "stream",
          "name": "stdout",
          "text": [
            "Country           0\n",
            "Population        0\n",
            "Fertility Rate    0\n",
            "Land Area         0\n",
            "dtype: int64\n"
          ]
        }
      ]
    },
    {
      "cell_type": "code",
      "source": [
        "# Data types of each column\n",
        "print(df.dtypes)"
      ],
      "metadata": {
        "colab": {
          "base_uri": "https://localhost:8080/"
        },
        "id": "_Ilyq-bPuzjs",
        "outputId": "afda25c2-31fc-4fa6-e0cc-250435fb1f54"
      },
      "execution_count": null,
      "outputs": [
        {
          "output_type": "stream",
          "name": "stdout",
          "text": [
            "Country            object\n",
            "Population          int64\n",
            "Fertility Rate    float64\n",
            "Land Area           int64\n",
            "dtype: object\n"
          ]
        }
      ]
    },
    {
      "cell_type": "code",
      "source": [
        "# Displaying the first few rows to get a quick overview\n",
        "print(df.head())"
      ],
      "metadata": {
        "colab": {
          "base_uri": "https://localhost:8080/"
        },
        "id": "sAxow46YuzQ8",
        "outputId": "39b7b3af-6698-483a-b66d-a94f3de26cc1"
      },
      "execution_count": null,
      "outputs": [
        {
          "output_type": "stream",
          "name": "stdout",
          "text": [
            "               # Country (or dependency)\n",
            "0          India           1,450,935,791\n",
            "1          China           1,419,321,278\n",
            "2  United States             345,426,571\n",
            "3      Indonesia             283,487,931\n",
            "4       Pakistan             251,269,164\n"
          ]
        }
      ]
    },
    {
      "cell_type": "markdown",
      "source": [
        "### Objective 1: Analyze Population Distribution Across Countries\n",
        "Understanding how the population is distributed globally helps identify regions with high population density and areas with sparse populations. This analysis can guide decisions in resource allocation, urban planning, and development priorities. It also aids in spotting demographic trends that impact economic and environmental policies."
      ],
      "metadata": {
        "id": "tG8jRQfvuvxE"
      }
    },
    {
      "cell_type": "code",
      "source": [
        "\n",
        "import matplotlib.pyplot as plt\n",
        "import seaborn as sns\n",
        "import plotly.express as px\n",
        "\n",
        "# Sort data by population in descending order\n",
        "df['Population'] = df['Population'].astype(int)  # Ensure Population is numeric\n",
        "df_sorted = df.sort_values(by='Population', ascending=False).head(10)  # Top 10 countries by population\n",
        "\n"
      ],
      "metadata": {
        "id": "wEw48VZmuygY"
      },
      "execution_count": null,
      "outputs": []
    },
    {
      "cell_type": "code",
      "source": [
        "# Plot bar chart\n",
        "fig = px.bar(df_sorted,\n",
        "             x='Country',\n",
        "             y='Population',\n",
        "             title='Top 10 Most Populous Countries',\n",
        "             labels={'Population': 'Population (in billions)'},\n",
        "             color='Population',\n",
        "             text='Population')\n",
        "fig.update_traces(texttemplate='%{text:.2s}', textposition='outside')\n",
        "fig.update_layout(title_font_size=18, xaxis_title=\"Country\", yaxis_title=\"Population\")\n",
        "fig.show()\n",
        "\n",
        "\n"
      ],
      "metadata": {
        "id": "GPgwpqqAux4R",
        "colab": {
          "base_uri": "https://localhost:8080/",
          "height": 542
        },
        "outputId": "2aca438c-4aa0-4bde-900d-5827b9237edf"
      },
      "execution_count": null,
      "outputs": [
        {
          "output_type": "display_data",
          "data": {
            "text/html": [
              "<html>\n",
              "<head><meta charset=\"utf-8\" /></head>\n",
              "<body>\n",
              "    <div>            <script src=\"https://cdnjs.cloudflare.com/ajax/libs/mathjax/2.7.5/MathJax.js?config=TeX-AMS-MML_SVG\"></script><script type=\"text/javascript\">if (window.MathJax && window.MathJax.Hub && window.MathJax.Hub.Config) {window.MathJax.Hub.Config({SVG: {font: \"STIX-Web\"}});}</script>                <script type=\"text/javascript\">window.PlotlyConfig = {MathJaxConfig: 'local'};</script>\n",
              "        <script charset=\"utf-8\" src=\"https://cdn.plot.ly/plotly-2.35.2.min.js\"></script>                <div id=\"d9acf39a-7587-4ac6-97de-439d4cc4ba01\" class=\"plotly-graph-div\" style=\"height:525px; width:100%;\"></div>            <script type=\"text/javascript\">                                    window.PLOTLYENV=window.PLOTLYENV || {};                                    if (document.getElementById(\"d9acf39a-7587-4ac6-97de-439d4cc4ba01\")) {                    Plotly.newPlot(                        \"d9acf39a-7587-4ac6-97de-439d4cc4ba01\",                        [{\"alignmentgroup\":\"True\",\"hovertemplate\":\"Country=%{x}\\u003cbr\\u003ePopulation (in billions)=%{marker.color}\\u003cextra\\u003e\\u003c\\u002fextra\\u003e\",\"legendgroup\":\"\",\"marker\":{\"color\":[1450935791,1419321278,345426571,283487931,251269164,232679478,211998573,173562364,144820423,132059767],\"coloraxis\":\"coloraxis\",\"pattern\":{\"shape\":\"\"}},\"name\":\"\",\"offsetgroup\":\"\",\"orientation\":\"v\",\"showlegend\":false,\"text\":[1450935791.0,1419321278.0,345426571.0,283487931.0,251269164.0,232679478.0,211998573.0,173562364.0,144820423.0,132059767.0],\"textposition\":\"outside\",\"x\":[\"India\",\"China\",\"United States\",\"Indonesia\",\"Pakistan\",\"Nigeria\",\"Brazil\",\"Bangladesh\",\"Russia\",\"Ethiopia\"],\"xaxis\":\"x\",\"y\":[1450935791,1419321278,345426571,283487931,251269164,232679478,211998573,173562364,144820423,132059767],\"yaxis\":\"y\",\"type\":\"bar\",\"texttemplate\":\"%{text:.2s}\"}],                        {\"template\":{\"data\":{\"histogram2dcontour\":[{\"type\":\"histogram2dcontour\",\"colorbar\":{\"outlinewidth\":0,\"ticks\":\"\"},\"colorscale\":[[0.0,\"#0d0887\"],[0.1111111111111111,\"#46039f\"],[0.2222222222222222,\"#7201a8\"],[0.3333333333333333,\"#9c179e\"],[0.4444444444444444,\"#bd3786\"],[0.5555555555555556,\"#d8576b\"],[0.6666666666666666,\"#ed7953\"],[0.7777777777777778,\"#fb9f3a\"],[0.8888888888888888,\"#fdca26\"],[1.0,\"#f0f921\"]]}],\"choropleth\":[{\"type\":\"choropleth\",\"colorbar\":{\"outlinewidth\":0,\"ticks\":\"\"}}],\"histogram2d\":[{\"type\":\"histogram2d\",\"colorbar\":{\"outlinewidth\":0,\"ticks\":\"\"},\"colorscale\":[[0.0,\"#0d0887\"],[0.1111111111111111,\"#46039f\"],[0.2222222222222222,\"#7201a8\"],[0.3333333333333333,\"#9c179e\"],[0.4444444444444444,\"#bd3786\"],[0.5555555555555556,\"#d8576b\"],[0.6666666666666666,\"#ed7953\"],[0.7777777777777778,\"#fb9f3a\"],[0.8888888888888888,\"#fdca26\"],[1.0,\"#f0f921\"]]}],\"heatmap\":[{\"type\":\"heatmap\",\"colorbar\":{\"outlinewidth\":0,\"ticks\":\"\"},\"colorscale\":[[0.0,\"#0d0887\"],[0.1111111111111111,\"#46039f\"],[0.2222222222222222,\"#7201a8\"],[0.3333333333333333,\"#9c179e\"],[0.4444444444444444,\"#bd3786\"],[0.5555555555555556,\"#d8576b\"],[0.6666666666666666,\"#ed7953\"],[0.7777777777777778,\"#fb9f3a\"],[0.8888888888888888,\"#fdca26\"],[1.0,\"#f0f921\"]]}],\"heatmapgl\":[{\"type\":\"heatmapgl\",\"colorbar\":{\"outlinewidth\":0,\"ticks\":\"\"},\"colorscale\":[[0.0,\"#0d0887\"],[0.1111111111111111,\"#46039f\"],[0.2222222222222222,\"#7201a8\"],[0.3333333333333333,\"#9c179e\"],[0.4444444444444444,\"#bd3786\"],[0.5555555555555556,\"#d8576b\"],[0.6666666666666666,\"#ed7953\"],[0.7777777777777778,\"#fb9f3a\"],[0.8888888888888888,\"#fdca26\"],[1.0,\"#f0f921\"]]}],\"contourcarpet\":[{\"type\":\"contourcarpet\",\"colorbar\":{\"outlinewidth\":0,\"ticks\":\"\"}}],\"contour\":[{\"type\":\"contour\",\"colorbar\":{\"outlinewidth\":0,\"ticks\":\"\"},\"colorscale\":[[0.0,\"#0d0887\"],[0.1111111111111111,\"#46039f\"],[0.2222222222222222,\"#7201a8\"],[0.3333333333333333,\"#9c179e\"],[0.4444444444444444,\"#bd3786\"],[0.5555555555555556,\"#d8576b\"],[0.6666666666666666,\"#ed7953\"],[0.7777777777777778,\"#fb9f3a\"],[0.8888888888888888,\"#fdca26\"],[1.0,\"#f0f921\"]]}],\"surface\":[{\"type\":\"surface\",\"colorbar\":{\"outlinewidth\":0,\"ticks\":\"\"},\"colorscale\":[[0.0,\"#0d0887\"],[0.1111111111111111,\"#46039f\"],[0.2222222222222222,\"#7201a8\"],[0.3333333333333333,\"#9c179e\"],[0.4444444444444444,\"#bd3786\"],[0.5555555555555556,\"#d8576b\"],[0.6666666666666666,\"#ed7953\"],[0.7777777777777778,\"#fb9f3a\"],[0.8888888888888888,\"#fdca26\"],[1.0,\"#f0f921\"]]}],\"mesh3d\":[{\"type\":\"mesh3d\",\"colorbar\":{\"outlinewidth\":0,\"ticks\":\"\"}}],\"scatter\":[{\"fillpattern\":{\"fillmode\":\"overlay\",\"size\":10,\"solidity\":0.2},\"type\":\"scatter\"}],\"parcoords\":[{\"type\":\"parcoords\",\"line\":{\"colorbar\":{\"outlinewidth\":0,\"ticks\":\"\"}}}],\"scatterpolargl\":[{\"type\":\"scatterpolargl\",\"marker\":{\"colorbar\":{\"outlinewidth\":0,\"ticks\":\"\"}}}],\"bar\":[{\"error_x\":{\"color\":\"#2a3f5f\"},\"error_y\":{\"color\":\"#2a3f5f\"},\"marker\":{\"line\":{\"color\":\"#E5ECF6\",\"width\":0.5},\"pattern\":{\"fillmode\":\"overlay\",\"size\":10,\"solidity\":0.2}},\"type\":\"bar\"}],\"scattergeo\":[{\"type\":\"scattergeo\",\"marker\":{\"colorbar\":{\"outlinewidth\":0,\"ticks\":\"\"}}}],\"scatterpolar\":[{\"type\":\"scatterpolar\",\"marker\":{\"colorbar\":{\"outlinewidth\":0,\"ticks\":\"\"}}}],\"histogram\":[{\"marker\":{\"pattern\":{\"fillmode\":\"overlay\",\"size\":10,\"solidity\":0.2}},\"type\":\"histogram\"}],\"scattergl\":[{\"type\":\"scattergl\",\"marker\":{\"colorbar\":{\"outlinewidth\":0,\"ticks\":\"\"}}}],\"scatter3d\":[{\"type\":\"scatter3d\",\"line\":{\"colorbar\":{\"outlinewidth\":0,\"ticks\":\"\"}},\"marker\":{\"colorbar\":{\"outlinewidth\":0,\"ticks\":\"\"}}}],\"scattermapbox\":[{\"type\":\"scattermapbox\",\"marker\":{\"colorbar\":{\"outlinewidth\":0,\"ticks\":\"\"}}}],\"scatterternary\":[{\"type\":\"scatterternary\",\"marker\":{\"colorbar\":{\"outlinewidth\":0,\"ticks\":\"\"}}}],\"scattercarpet\":[{\"type\":\"scattercarpet\",\"marker\":{\"colorbar\":{\"outlinewidth\":0,\"ticks\":\"\"}}}],\"carpet\":[{\"aaxis\":{\"endlinecolor\":\"#2a3f5f\",\"gridcolor\":\"white\",\"linecolor\":\"white\",\"minorgridcolor\":\"white\",\"startlinecolor\":\"#2a3f5f\"},\"baxis\":{\"endlinecolor\":\"#2a3f5f\",\"gridcolor\":\"white\",\"linecolor\":\"white\",\"minorgridcolor\":\"white\",\"startlinecolor\":\"#2a3f5f\"},\"type\":\"carpet\"}],\"table\":[{\"cells\":{\"fill\":{\"color\":\"#EBF0F8\"},\"line\":{\"color\":\"white\"}},\"header\":{\"fill\":{\"color\":\"#C8D4E3\"},\"line\":{\"color\":\"white\"}},\"type\":\"table\"}],\"barpolar\":[{\"marker\":{\"line\":{\"color\":\"#E5ECF6\",\"width\":0.5},\"pattern\":{\"fillmode\":\"overlay\",\"size\":10,\"solidity\":0.2}},\"type\":\"barpolar\"}],\"pie\":[{\"automargin\":true,\"type\":\"pie\"}]},\"layout\":{\"autotypenumbers\":\"strict\",\"colorway\":[\"#636efa\",\"#EF553B\",\"#00cc96\",\"#ab63fa\",\"#FFA15A\",\"#19d3f3\",\"#FF6692\",\"#B6E880\",\"#FF97FF\",\"#FECB52\"],\"font\":{\"color\":\"#2a3f5f\"},\"hovermode\":\"closest\",\"hoverlabel\":{\"align\":\"left\"},\"paper_bgcolor\":\"white\",\"plot_bgcolor\":\"#E5ECF6\",\"polar\":{\"bgcolor\":\"#E5ECF6\",\"angularaxis\":{\"gridcolor\":\"white\",\"linecolor\":\"white\",\"ticks\":\"\"},\"radialaxis\":{\"gridcolor\":\"white\",\"linecolor\":\"white\",\"ticks\":\"\"}},\"ternary\":{\"bgcolor\":\"#E5ECF6\",\"aaxis\":{\"gridcolor\":\"white\",\"linecolor\":\"white\",\"ticks\":\"\"},\"baxis\":{\"gridcolor\":\"white\",\"linecolor\":\"white\",\"ticks\":\"\"},\"caxis\":{\"gridcolor\":\"white\",\"linecolor\":\"white\",\"ticks\":\"\"}},\"coloraxis\":{\"colorbar\":{\"outlinewidth\":0,\"ticks\":\"\"}},\"colorscale\":{\"sequential\":[[0.0,\"#0d0887\"],[0.1111111111111111,\"#46039f\"],[0.2222222222222222,\"#7201a8\"],[0.3333333333333333,\"#9c179e\"],[0.4444444444444444,\"#bd3786\"],[0.5555555555555556,\"#d8576b\"],[0.6666666666666666,\"#ed7953\"],[0.7777777777777778,\"#fb9f3a\"],[0.8888888888888888,\"#fdca26\"],[1.0,\"#f0f921\"]],\"sequentialminus\":[[0.0,\"#0d0887\"],[0.1111111111111111,\"#46039f\"],[0.2222222222222222,\"#7201a8\"],[0.3333333333333333,\"#9c179e\"],[0.4444444444444444,\"#bd3786\"],[0.5555555555555556,\"#d8576b\"],[0.6666666666666666,\"#ed7953\"],[0.7777777777777778,\"#fb9f3a\"],[0.8888888888888888,\"#fdca26\"],[1.0,\"#f0f921\"]],\"diverging\":[[0,\"#8e0152\"],[0.1,\"#c51b7d\"],[0.2,\"#de77ae\"],[0.3,\"#f1b6da\"],[0.4,\"#fde0ef\"],[0.5,\"#f7f7f7\"],[0.6,\"#e6f5d0\"],[0.7,\"#b8e186\"],[0.8,\"#7fbc41\"],[0.9,\"#4d9221\"],[1,\"#276419\"]]},\"xaxis\":{\"gridcolor\":\"white\",\"linecolor\":\"white\",\"ticks\":\"\",\"title\":{\"standoff\":15},\"zerolinecolor\":\"white\",\"automargin\":true,\"zerolinewidth\":2},\"yaxis\":{\"gridcolor\":\"white\",\"linecolor\":\"white\",\"ticks\":\"\",\"title\":{\"standoff\":15},\"zerolinecolor\":\"white\",\"automargin\":true,\"zerolinewidth\":2},\"scene\":{\"xaxis\":{\"backgroundcolor\":\"#E5ECF6\",\"gridcolor\":\"white\",\"linecolor\":\"white\",\"showbackground\":true,\"ticks\":\"\",\"zerolinecolor\":\"white\",\"gridwidth\":2},\"yaxis\":{\"backgroundcolor\":\"#E5ECF6\",\"gridcolor\":\"white\",\"linecolor\":\"white\",\"showbackground\":true,\"ticks\":\"\",\"zerolinecolor\":\"white\",\"gridwidth\":2},\"zaxis\":{\"backgroundcolor\":\"#E5ECF6\",\"gridcolor\":\"white\",\"linecolor\":\"white\",\"showbackground\":true,\"ticks\":\"\",\"zerolinecolor\":\"white\",\"gridwidth\":2}},\"shapedefaults\":{\"line\":{\"color\":\"#2a3f5f\"}},\"annotationdefaults\":{\"arrowcolor\":\"#2a3f5f\",\"arrowhead\":0,\"arrowwidth\":1},\"geo\":{\"bgcolor\":\"white\",\"landcolor\":\"#E5ECF6\",\"subunitcolor\":\"white\",\"showland\":true,\"showlakes\":true,\"lakecolor\":\"white\"},\"title\":{\"x\":0.05},\"mapbox\":{\"style\":\"light\"}}},\"xaxis\":{\"anchor\":\"y\",\"domain\":[0.0,1.0],\"title\":{\"text\":\"Country\"}},\"yaxis\":{\"anchor\":\"x\",\"domain\":[0.0,1.0],\"title\":{\"text\":\"Population\"}},\"coloraxis\":{\"colorbar\":{\"title\":{\"text\":\"Population (in billions)\"}},\"colorscale\":[[0.0,\"#0d0887\"],[0.1111111111111111,\"#46039f\"],[0.2222222222222222,\"#7201a8\"],[0.3333333333333333,\"#9c179e\"],[0.4444444444444444,\"#bd3786\"],[0.5555555555555556,\"#d8576b\"],[0.6666666666666666,\"#ed7953\"],[0.7777777777777778,\"#fb9f3a\"],[0.8888888888888888,\"#fdca26\"],[1.0,\"#f0f921\"]]},\"legend\":{\"tracegroupgap\":0},\"title\":{\"text\":\"Top 10 Most Populous Countries\",\"font\":{\"size\":18}},\"barmode\":\"relative\"},                        {\"responsive\": true}                    ).then(function(){\n",
              "                            \n",
              "var gd = document.getElementById('d9acf39a-7587-4ac6-97de-439d4cc4ba01');\n",
              "var x = new MutationObserver(function (mutations, observer) {{\n",
              "        var display = window.getComputedStyle(gd).display;\n",
              "        if (!display || display === 'none') {{\n",
              "            console.log([gd, 'removed!']);\n",
              "            Plotly.purge(gd);\n",
              "            observer.disconnect();\n",
              "        }}\n",
              "}});\n",
              "\n",
              "// Listen for the removal of the full notebook cells\n",
              "var notebookContainer = gd.closest('#notebook-container');\n",
              "if (notebookContainer) {{\n",
              "    x.observe(notebookContainer, {childList: true});\n",
              "}}\n",
              "\n",
              "// Listen for the clearing of the current output cell\n",
              "var outputEl = gd.closest('.output');\n",
              "if (outputEl) {{\n",
              "    x.observe(outputEl, {childList: true});\n",
              "}}\n",
              "\n",
              "                        })                };                            </script>        </div>\n",
              "</body>\n",
              "</html>"
            ]
          },
          "metadata": {}
        }
      ]
    },
    {
      "cell_type": "markdown",
      "source": [
        "India and China are the only countries to pass the 1 billion polulation Mark while Nigeria and Ethopia are the only countries in the top 10."
      ],
      "metadata": {
        "id": "wZYCEY7wIyye"
      }
    },
    {
      "cell_type": "markdown",
      "source": [
        "### Objective 2: Visualize the Relationship Between Fertility Rate, Population, and Land Area Using a Bubble Chart\n",
        "The objective is to understand the interplay between a country’s fertility rate, population size, and land area. These three factors are critical in demographic studies, economic planning, and understanding global population dynamics."
      ],
      "metadata": {
        "id": "-dOlJNenIKQO"
      }
    },
    {
      "cell_type": "code",
      "source": [
        "import plotly.express as px\n",
        "\n",
        "# Assuming 'df' is your DataFrame with 'Country', 'Fertility Rate', 'Population', and 'Land Area'\n",
        "# Creating the Bubble chart with Fertility Rate, Population, and Land Area as the size and axes\n",
        "\n",
        "fig = px.scatter(df,\n",
        "                 x='Population',            # X-axis: Population\n",
        "                 y='Fertility Rate',        # Y-axis: Fertility Rate\n",
        "                 size='Land Area',          # Bubble size: Land Area\n",
        "                 color='Fertility Rate',    # Color based on fertility rate\n",
        "                 hover_name='Country',      # Hover to show Country name\n",
        "                 title=\"Bubble Chart: Fertility Rate vs Population with Land Area Size\",\n",
        "                 labels={\"Fertility Rate\": \"Fertility Rate\", \"Population\": \"Population (Billions)\", \"Land Area\": \"Land Area (km²)\"},\n",
        "                 color_continuous_scale='Viridis', # Color scale\n",
        "                 template=\"plotly_dark\")   # Dark theme for aesthetics\n",
        "\n",
        "# Show the plot\n",
        "fig.show()\n"
      ],
      "metadata": {
        "colab": {
          "base_uri": "https://localhost:8080/",
          "height": 542
        },
        "id": "EvfTGcSfBz0v",
        "outputId": "b5b2906b-64ec-4d3c-dbbb-fe0b651d060f"
      },
      "execution_count": null,
      "outputs": [
        {
          "output_type": "display_data",
          "data": {
            "text/html": [
              "<html>\n",
              "<head><meta charset=\"utf-8\" /></head>\n",
              "<body>\n",
              "    <div>            <script src=\"https://cdnjs.cloudflare.com/ajax/libs/mathjax/2.7.5/MathJax.js?config=TeX-AMS-MML_SVG\"></script><script type=\"text/javascript\">if (window.MathJax && window.MathJax.Hub && window.MathJax.Hub.Config) {window.MathJax.Hub.Config({SVG: {font: \"STIX-Web\"}});}</script>                <script type=\"text/javascript\">window.PlotlyConfig = {MathJaxConfig: 'local'};</script>\n",
              "        <script charset=\"utf-8\" src=\"https://cdn.plot.ly/plotly-2.35.2.min.js\"></script>                <div id=\"a47a55d1-4996-495d-a9d2-a9694b9ee73f\" class=\"plotly-graph-div\" style=\"height:525px; width:100%;\"></div>            <script type=\"text/javascript\">                                    window.PLOTLYENV=window.PLOTLYENV || {};                                    if (document.getElementById(\"a47a55d1-4996-495d-a9d2-a9694b9ee73f\")) {                    Plotly.newPlot(                        \"a47a55d1-4996-495d-a9d2-a9694b9ee73f\",                        [{\"hovertemplate\":\"\\u003cb\\u003e%{hovertext}\\u003c\\u002fb\\u003e\\u003cbr\\u003e\\u003cbr\\u003ePopulation (Billions)=%{x}\\u003cbr\\u003eFertility Rate=%{marker.color}\\u003cbr\\u003eLand Area (km²)=%{marker.size}\\u003cextra\\u003e\\u003c\\u002fextra\\u003e\",\"hovertext\":[\"India\",\"China\",\"United States\",\"Indonesia\",\"Pakistan\",\"Nigeria\",\"Brazil\",\"Bangladesh\",\"Russia\",\"Ethiopia\",\"Mexico\",\"Japan\",\"Egypt\",\"Philippines\",\"DR Congo\",\"Vietnam\",\"Iran\",\"Turkey\",\"Germany\",\"Thailand\",\"United Kingdom\",\"Tanzania\",\"France\",\"South Africa\",\"Italy\",\"Kenya\",\"Myanmar\",\"Colombia\",\"South Korea\",\"Sudan\",\"Uganda\",\"Spain\",\"Algeria\",\"Iraq\",\"Argentina\",\"Afghanistan\",\"Yemen\",\"Canada\",\"Poland\",\"Morocco\",\"Angola\",\"Ukraine\",\"Uzbekistan\",\"Malaysia\",\"Mozambique\",\"Ghana\",\"Peru\",\"Saudi Arabia\",\"Madagascar\",\"Côte d'Ivoire\",\"Nepal\",\"Cameroon\",\"Venezuela\",\"Niger\",\"Australia\",\"North Korea\",\"Syria\",\"Mali\",\"Burkina Faso\",\"Taiwan\",\"Sri Lanka\",\"Malawi\",\"Zambia\",\"Kazakhstan\",\"Chad\",\"Chile\",\"Romania\",\"Somalia\",\"Senegal\",\"Guatemala\",\"Netherlands\",\"Ecuador\",\"Cambodia\",\"Zimbabwe\",\"Guinea\",\"Benin\",\"Rwanda\",\"Burundi\",\"Bolivia\",\"Tunisia\",\"South Sudan\",\"Haiti\",\"Belgium\",\"Jordan\",\"Dominican Republic\",\"United Arab Emirates\",\"Cuba\",\"Honduras\",\"Czech Republic (Czechia)\",\"Sweden\",\"Tajikistan\",\"Papua New Guinea\",\"Portugal\",\"Azerbaijan\",\"Greece\",\"Hungary\",\"Togo\",\"Israel\",\"Austria\",\"Belarus\",\"Switzerland\",\"Sierra Leone\",\"Laos\",\"Turkmenistan\",\"Hong Kong\",\"Libya\",\"Kyrgyzstan\",\"Paraguay\",\"Nicaragua\",\"Bulgaria\",\"Serbia\",\"El Salvador\",\"Congo\",\"Denmark\",\"Singapore\",\"Lebanon\",\"Finland\",\"Liberia\",\"Norway\",\"Slovakia\",\"State of Palestine\",\"Central African Republic\",\"Oman\",\"Ireland\",\"New Zealand\",\"Mauritania\",\"Costa Rica\",\"Kuwait\",\"Panama\",\"Croatia\",\"Georgia\",\"Eritrea\",\"Mongolia\",\"Uruguay\",\"Puerto Rico\",\"Bosnia and Herzegovina\",\"Qatar\",\"Moldova\",\"Namibia\",\"Armenia\",\"Lithuania\",\"Jamaica\",\"Albania\",\"Gambia\",\"Gabon\",\"Botswana\",\"Lesotho\",\"Guinea-Bissau\",\"Slovenia\",\"Equatorial Guinea\",\"Latvia\",\"North Macedonia\",\"Bahrain\",\"Trinidad and Tobago\",\"Timor-Leste\",\"Estonia\",\"Cyprus\",\"Mauritius\",\"Eswatini\",\"Djibouti\",\"Fiji\",\"Réunion\",\"Comoros\",\"Guyana\",\"Solomon Islands\",\"Bhutan\",\"Macao\",\"Luxembourg\",\"Montenegro\",\"Suriname\",\"Western Sahara\",\"Malta\",\"Maldives\",\"Micronesia\",\"Cabo Verde\",\"Brunei\",\"Belize\",\"Bahamas\",\"Iceland\",\"Guadeloupe\",\"Martinique\",\"Vanuatu\",\"Mayotte\",\"French Guiana\",\"New Caledonia\",\"Barbados\",\"French Polynesia\",\"Sao Tome & Principe\",\"Samoa\",\"Curaçao\",\"Saint Lucia\",\"Guam\",\"Kiribati\",\"Seychelles\",\"Grenada\",\"Aruba\",\"Tonga\",\"St. Vincent & Grenadines\",\"Antigua and Barbuda\",\"U.S. Virgin Islands\",\"Isle of Man\",\"Andorra\",\"Cayman Islands\",\"Dominica\",\"Bermuda\",\"Greenland\",\"Faeroe Islands\",\"Saint Kitts & Nevis\",\"American Samoa\",\"Turks and Caicos\",\"Northern Mariana Islands\",\"Sint Maarten\",\"Liechtenstein\",\"British Virgin Islands\",\"Gibraltar\",\"Monaco\",\"Marshall Islands\",\"San Marino\",\"Caribbean Netherlands\",\"Saint Martin\",\"Palau\",\"Anguilla\",\"Cook Islands\",\"Nauru\",\"Wallis & Futuna\",\"Saint Barthelemy\",\"Tuvalu\",\"Saint Pierre & Miquelon\",\"Saint Helena\",\"Montserrat\",\"Falkland Islands\",\"Tokelau\",\"Niue\",\"Holy See\"],\"legendgroup\":\"\",\"marker\":{\"color\":[2.0,1.0,1.6,2.1,3.5,4.4,1.6,2.1,1.5,3.9,1.9,1.2,2.7,1.9,6.0,1.9,1.7,1.6,1.4,1.2,1.6,4.5,1.6,2.2,1.2,3.2,2.1,1.6,0.7,4.3,4.2,1.2,2.7,3.2,1.5,4.8,4.5,1.3,1.3,2.2,5.0,1.0,3.5,1.5,4.7,3.3,2.0,2.3,3.9,4.2,2.0,4.3,2.1,5.9,1.6,1.8,2.7,5.5,4.1,0.9,2.0,3.6,4.0,3.0,6.0,1.1,1.7,6.0,3.8,2.3,1.4,1.8,2.5,3.7,4.1,4.5,3.6,4.8,2.5,1.8,3.8,2.6,1.4,2.6,2.2,1.2,1.4,2.5,1.5,1.4,3.0,3.1,1.5,1.7,1.3,1.5,4.1,2.8,1.3,1.2,1.4,3.7,2.4,2.7,0.7,2.3,2.8,2.4,2.2,1.7,1.5,1.8,4.1,1.5,1.0,2.2,1.3,3.9,1.4,1.6,3.3,6.0,2.5,1.6,1.7,4.6,1.3,1.5,2.1,1.5,1.8,3.7,2.6,1.4,0.9,1.5,1.7,1.7,3.2,1.7,1.2,1.4,1.3,3.9,3.6,2.7,2.7,3.8,1.6,4.1,1.3,1.5,1.8,1.5,2.6,1.4,1.4,1.2,2.7,2.6,2.3,2.2,3.8,2.4,3.5,1.4,0.7,1.4,1.8,2.2,2.2,1.1,1.6,2.8,1.5,1.7,2.0,1.4,1.5,2.1,2.0,3.6,4.6,3.3,2.0,1.7,1.5,3.6,3.8,1.1,1.4,2.7,3.1,2.1,1.5,1.6,3.1,1.8,1.6,2.1,1.5,1.1,1.5,1.5,1.4,1.9,2.2,1.5,2.3,1.5,2.3,1.4,1.5,1.0,1.9,2.1,2.9,1.2,1.5,2.7,1.9,1.4,2.0,3.3,1.4,0.8,3.2,1.3,1.6,1.4,1.7,2.6,2.5,1.0],\"coloraxis\":\"coloraxis\",\"size\":[2973190,9388211,9147420,1811570,770880,910770,8358140,130170,16376870,1000000,1943950,364555,995450,298170,2267050,310070,1628550,769630,348560,510890,241930,885800,547557,1213090,294140,569140,653290,1109500,97230,1765048,199810,498800,2381740,434320,2736690,652860,527970,9093510,306230,446300,1246700,579320,425400,328550,786380,227540,1280000,2149690,581795,318000,143350,472710,882050,1266700,7682300,120410,183630,1220190,273600,35410,62710,94280,743390,2699700,1259200,743532,230170,627340,192530,107160,33720,248360,176520,386850,245720,112760,24670,25680,1083300,155360,610952,27560,30280,88780,48320,83600,106440,111890,77240,410340,139960,452860,91590,82658,128900,90530,54390,21640,82409,202910,39516,72180,230800,469930,1050,1759540,191800,397300,120340,108560,87460,20720,341500,42430,700,10230,303890,96320,365268,48088,6020,622980,309500,68890,263310,1030700,51060,17820,74340,55960,69490,101000,1553560,175020,8870,51000,11610,32850,823290,28470,62674,10830,27400,10120,257670,566730,30360,28120,20140,28050,62200,25220,760,5130,14870,42390,9240,2030,17200,23180,18270,2500,1861,196850,27990,38117,30,2590,13450,156000,266000,320,300,700,4030,5270,22810,10010,100250,1690,1060,12190,375,82200,18280,430,3660,960,2830,444,610,540,810,460,340,180,720,390,440,350,570,470,240,750,50,410450,1396,260,200,950,460,34,160,150,10,1,180,60,328,53,460,90,240,20,140,21,30,230,390,100,12170,10,260,0],\"sizemode\":\"area\",\"sizeref\":40942.175,\"symbol\":\"circle\"},\"mode\":\"markers\",\"name\":\"\",\"orientation\":\"v\",\"showlegend\":false,\"x\":[1450935791,1419321278,345426571,283487931,251269164,232679478,211998573,173562364,144820423,132059767,130861007,123753041,116538258,115843670,109276265,100987686,91567738,87473805,84552242,71668011,69138192,68560157,66548530,64007187,59342867,56432944,54500091,52886363,51717590,50448963,50015092,47910526,46814308,46042015,45696159,42647492,40583164,39742430,38539201,38081173,37885849,37860221,36361859,35557673,34631766,34427414,34217848,33962757,31964956,31934230,29651054,29123744,28405543,27032412,26713205,26498823,24672760,24478595,23548781,23213962,23103565,21655286,21314956,20592571,20299123,19764771,19015088,19009151,18501984,18406359,18228742,18135478,17638801,16634373,14754785,14462724,14256567,14047786,12413315,12277109,11943408,11772557,11738763,11552876,11427557,11027129,10979783,10825703,10735859,10606999,10590927,10576502,10425292,10336577,10047817,9676135,9515236,9387021,9120813,9056696,8921981,8642022,7769819,7494498,7414909,7381023,7186009,6929153,6916140,6757689,6736216,6338193,6332961,5977412,5832387,5805962,5617310,5612817,5576660,5506760,5495443,5330690,5281538,5255017,5213944,5169395,5129910,4934507,4515577,3875325,3807670,3535603,3475540,3386588,3242204,3164253,3048423,3034961,3030131,2973840,2859110,2839175,2791765,2759988,2538952,2521139,2337423,2201352,2118697,1892516,1871871,1823009,1607049,1507782,1400638,1360546,1358282,1271169,1242822,1168722,928784,878591,866628,831087,819198,791524,720262,673036,638479,634431,590506,539607,527799,526923,524877,462721,417072,401283,393396,375106,343195,327777,326505,308522,292639,282467,281807,235536,218019,185482,179744,167777,134518,130418,117207,108066,104175,100616,93772,84905,84160,81938,74457,66205,64636,55840,55400,46843,46765,46535,44278,43350,39870,39471,39329,38631,37548,33581,30675,26129,17695,14598,13729,11947,11277,11258,9646,5628,5237,4389,3470,2506,1819,496],\"xaxis\":\"x\",\"y\":[2.0,1.0,1.6,2.1,3.5,4.4,1.6,2.1,1.5,3.9,1.9,1.2,2.7,1.9,6.0,1.9,1.7,1.6,1.4,1.2,1.6,4.5,1.6,2.2,1.2,3.2,2.1,1.6,0.7,4.3,4.2,1.2,2.7,3.2,1.5,4.8,4.5,1.3,1.3,2.2,5.0,1.0,3.5,1.5,4.7,3.3,2.0,2.3,3.9,4.2,2.0,4.3,2.1,5.9,1.6,1.8,2.7,5.5,4.1,0.9,2.0,3.6,4.0,3.0,6.0,1.1,1.7,6.0,3.8,2.3,1.4,1.8,2.5,3.7,4.1,4.5,3.6,4.8,2.5,1.8,3.8,2.6,1.4,2.6,2.2,1.2,1.4,2.5,1.5,1.4,3.0,3.1,1.5,1.7,1.3,1.5,4.1,2.8,1.3,1.2,1.4,3.7,2.4,2.7,0.7,2.3,2.8,2.4,2.2,1.7,1.5,1.8,4.1,1.5,1.0,2.2,1.3,3.9,1.4,1.6,3.3,6.0,2.5,1.6,1.7,4.6,1.3,1.5,2.1,1.5,1.8,3.7,2.6,1.4,0.9,1.5,1.7,1.7,3.2,1.7,1.2,1.4,1.3,3.9,3.6,2.7,2.7,3.8,1.6,4.1,1.3,1.5,1.8,1.5,2.6,1.4,1.4,1.2,2.7,2.6,2.3,2.2,3.8,2.4,3.5,1.4,0.7,1.4,1.8,2.2,2.2,1.1,1.6,2.8,1.5,1.7,2.0,1.4,1.5,2.1,2.0,3.6,4.6,3.3,2.0,1.7,1.5,3.6,3.8,1.1,1.4,2.7,3.1,2.1,1.5,1.6,3.1,1.8,1.6,2.1,1.5,1.1,1.5,1.5,1.4,1.9,2.2,1.5,2.3,1.5,2.3,1.4,1.5,1.0,1.9,2.1,2.9,1.2,1.5,2.7,1.9,1.4,2.0,3.3,1.4,0.8,3.2,1.3,1.6,1.4,1.7,2.6,2.5,1.0],\"yaxis\":\"y\",\"type\":\"scatter\"}],                        {\"template\":{\"data\":{\"barpolar\":[{\"marker\":{\"line\":{\"color\":\"rgb(17,17,17)\",\"width\":0.5},\"pattern\":{\"fillmode\":\"overlay\",\"size\":10,\"solidity\":0.2}},\"type\":\"barpolar\"}],\"bar\":[{\"error_x\":{\"color\":\"#f2f5fa\"},\"error_y\":{\"color\":\"#f2f5fa\"},\"marker\":{\"line\":{\"color\":\"rgb(17,17,17)\",\"width\":0.5},\"pattern\":{\"fillmode\":\"overlay\",\"size\":10,\"solidity\":0.2}},\"type\":\"bar\"}],\"carpet\":[{\"aaxis\":{\"endlinecolor\":\"#A2B1C6\",\"gridcolor\":\"#506784\",\"linecolor\":\"#506784\",\"minorgridcolor\":\"#506784\",\"startlinecolor\":\"#A2B1C6\"},\"baxis\":{\"endlinecolor\":\"#A2B1C6\",\"gridcolor\":\"#506784\",\"linecolor\":\"#506784\",\"minorgridcolor\":\"#506784\",\"startlinecolor\":\"#A2B1C6\"},\"type\":\"carpet\"}],\"choropleth\":[{\"colorbar\":{\"outlinewidth\":0,\"ticks\":\"\"},\"type\":\"choropleth\"}],\"contourcarpet\":[{\"colorbar\":{\"outlinewidth\":0,\"ticks\":\"\"},\"type\":\"contourcarpet\"}],\"contour\":[{\"colorbar\":{\"outlinewidth\":0,\"ticks\":\"\"},\"colorscale\":[[0.0,\"#0d0887\"],[0.1111111111111111,\"#46039f\"],[0.2222222222222222,\"#7201a8\"],[0.3333333333333333,\"#9c179e\"],[0.4444444444444444,\"#bd3786\"],[0.5555555555555556,\"#d8576b\"],[0.6666666666666666,\"#ed7953\"],[0.7777777777777778,\"#fb9f3a\"],[0.8888888888888888,\"#fdca26\"],[1.0,\"#f0f921\"]],\"type\":\"contour\"}],\"heatmapgl\":[{\"colorbar\":{\"outlinewidth\":0,\"ticks\":\"\"},\"colorscale\":[[0.0,\"#0d0887\"],[0.1111111111111111,\"#46039f\"],[0.2222222222222222,\"#7201a8\"],[0.3333333333333333,\"#9c179e\"],[0.4444444444444444,\"#bd3786\"],[0.5555555555555556,\"#d8576b\"],[0.6666666666666666,\"#ed7953\"],[0.7777777777777778,\"#fb9f3a\"],[0.8888888888888888,\"#fdca26\"],[1.0,\"#f0f921\"]],\"type\":\"heatmapgl\"}],\"heatmap\":[{\"colorbar\":{\"outlinewidth\":0,\"ticks\":\"\"},\"colorscale\":[[0.0,\"#0d0887\"],[0.1111111111111111,\"#46039f\"],[0.2222222222222222,\"#7201a8\"],[0.3333333333333333,\"#9c179e\"],[0.4444444444444444,\"#bd3786\"],[0.5555555555555556,\"#d8576b\"],[0.6666666666666666,\"#ed7953\"],[0.7777777777777778,\"#fb9f3a\"],[0.8888888888888888,\"#fdca26\"],[1.0,\"#f0f921\"]],\"type\":\"heatmap\"}],\"histogram2dcontour\":[{\"colorbar\":{\"outlinewidth\":0,\"ticks\":\"\"},\"colorscale\":[[0.0,\"#0d0887\"],[0.1111111111111111,\"#46039f\"],[0.2222222222222222,\"#7201a8\"],[0.3333333333333333,\"#9c179e\"],[0.4444444444444444,\"#bd3786\"],[0.5555555555555556,\"#d8576b\"],[0.6666666666666666,\"#ed7953\"],[0.7777777777777778,\"#fb9f3a\"],[0.8888888888888888,\"#fdca26\"],[1.0,\"#f0f921\"]],\"type\":\"histogram2dcontour\"}],\"histogram2d\":[{\"colorbar\":{\"outlinewidth\":0,\"ticks\":\"\"},\"colorscale\":[[0.0,\"#0d0887\"],[0.1111111111111111,\"#46039f\"],[0.2222222222222222,\"#7201a8\"],[0.3333333333333333,\"#9c179e\"],[0.4444444444444444,\"#bd3786\"],[0.5555555555555556,\"#d8576b\"],[0.6666666666666666,\"#ed7953\"],[0.7777777777777778,\"#fb9f3a\"],[0.8888888888888888,\"#fdca26\"],[1.0,\"#f0f921\"]],\"type\":\"histogram2d\"}],\"histogram\":[{\"marker\":{\"pattern\":{\"fillmode\":\"overlay\",\"size\":10,\"solidity\":0.2}},\"type\":\"histogram\"}],\"mesh3d\":[{\"colorbar\":{\"outlinewidth\":0,\"ticks\":\"\"},\"type\":\"mesh3d\"}],\"parcoords\":[{\"line\":{\"colorbar\":{\"outlinewidth\":0,\"ticks\":\"\"}},\"type\":\"parcoords\"}],\"pie\":[{\"automargin\":true,\"type\":\"pie\"}],\"scatter3d\":[{\"line\":{\"colorbar\":{\"outlinewidth\":0,\"ticks\":\"\"}},\"marker\":{\"colorbar\":{\"outlinewidth\":0,\"ticks\":\"\"}},\"type\":\"scatter3d\"}],\"scattercarpet\":[{\"marker\":{\"colorbar\":{\"outlinewidth\":0,\"ticks\":\"\"}},\"type\":\"scattercarpet\"}],\"scattergeo\":[{\"marker\":{\"colorbar\":{\"outlinewidth\":0,\"ticks\":\"\"}},\"type\":\"scattergeo\"}],\"scattergl\":[{\"marker\":{\"line\":{\"color\":\"#283442\"}},\"type\":\"scattergl\"}],\"scattermapbox\":[{\"marker\":{\"colorbar\":{\"outlinewidth\":0,\"ticks\":\"\"}},\"type\":\"scattermapbox\"}],\"scatterpolargl\":[{\"marker\":{\"colorbar\":{\"outlinewidth\":0,\"ticks\":\"\"}},\"type\":\"scatterpolargl\"}],\"scatterpolar\":[{\"marker\":{\"colorbar\":{\"outlinewidth\":0,\"ticks\":\"\"}},\"type\":\"scatterpolar\"}],\"scatter\":[{\"marker\":{\"line\":{\"color\":\"#283442\"}},\"type\":\"scatter\"}],\"scatterternary\":[{\"marker\":{\"colorbar\":{\"outlinewidth\":0,\"ticks\":\"\"}},\"type\":\"scatterternary\"}],\"surface\":[{\"colorbar\":{\"outlinewidth\":0,\"ticks\":\"\"},\"colorscale\":[[0.0,\"#0d0887\"],[0.1111111111111111,\"#46039f\"],[0.2222222222222222,\"#7201a8\"],[0.3333333333333333,\"#9c179e\"],[0.4444444444444444,\"#bd3786\"],[0.5555555555555556,\"#d8576b\"],[0.6666666666666666,\"#ed7953\"],[0.7777777777777778,\"#fb9f3a\"],[0.8888888888888888,\"#fdca26\"],[1.0,\"#f0f921\"]],\"type\":\"surface\"}],\"table\":[{\"cells\":{\"fill\":{\"color\":\"#506784\"},\"line\":{\"color\":\"rgb(17,17,17)\"}},\"header\":{\"fill\":{\"color\":\"#2a3f5f\"},\"line\":{\"color\":\"rgb(17,17,17)\"}},\"type\":\"table\"}]},\"layout\":{\"annotationdefaults\":{\"arrowcolor\":\"#f2f5fa\",\"arrowhead\":0,\"arrowwidth\":1},\"autotypenumbers\":\"strict\",\"coloraxis\":{\"colorbar\":{\"outlinewidth\":0,\"ticks\":\"\"}},\"colorscale\":{\"diverging\":[[0,\"#8e0152\"],[0.1,\"#c51b7d\"],[0.2,\"#de77ae\"],[0.3,\"#f1b6da\"],[0.4,\"#fde0ef\"],[0.5,\"#f7f7f7\"],[0.6,\"#e6f5d0\"],[0.7,\"#b8e186\"],[0.8,\"#7fbc41\"],[0.9,\"#4d9221\"],[1,\"#276419\"]],\"sequential\":[[0.0,\"#0d0887\"],[0.1111111111111111,\"#46039f\"],[0.2222222222222222,\"#7201a8\"],[0.3333333333333333,\"#9c179e\"],[0.4444444444444444,\"#bd3786\"],[0.5555555555555556,\"#d8576b\"],[0.6666666666666666,\"#ed7953\"],[0.7777777777777778,\"#fb9f3a\"],[0.8888888888888888,\"#fdca26\"],[1.0,\"#f0f921\"]],\"sequentialminus\":[[0.0,\"#0d0887\"],[0.1111111111111111,\"#46039f\"],[0.2222222222222222,\"#7201a8\"],[0.3333333333333333,\"#9c179e\"],[0.4444444444444444,\"#bd3786\"],[0.5555555555555556,\"#d8576b\"],[0.6666666666666666,\"#ed7953\"],[0.7777777777777778,\"#fb9f3a\"],[0.8888888888888888,\"#fdca26\"],[1.0,\"#f0f921\"]]},\"colorway\":[\"#636efa\",\"#EF553B\",\"#00cc96\",\"#ab63fa\",\"#FFA15A\",\"#19d3f3\",\"#FF6692\",\"#B6E880\",\"#FF97FF\",\"#FECB52\"],\"font\":{\"color\":\"#f2f5fa\"},\"geo\":{\"bgcolor\":\"rgb(17,17,17)\",\"lakecolor\":\"rgb(17,17,17)\",\"landcolor\":\"rgb(17,17,17)\",\"showlakes\":true,\"showland\":true,\"subunitcolor\":\"#506784\"},\"hoverlabel\":{\"align\":\"left\"},\"hovermode\":\"closest\",\"mapbox\":{\"style\":\"dark\"},\"paper_bgcolor\":\"rgb(17,17,17)\",\"plot_bgcolor\":\"rgb(17,17,17)\",\"polar\":{\"angularaxis\":{\"gridcolor\":\"#506784\",\"linecolor\":\"#506784\",\"ticks\":\"\"},\"bgcolor\":\"rgb(17,17,17)\",\"radialaxis\":{\"gridcolor\":\"#506784\",\"linecolor\":\"#506784\",\"ticks\":\"\"}},\"scene\":{\"xaxis\":{\"backgroundcolor\":\"rgb(17,17,17)\",\"gridcolor\":\"#506784\",\"gridwidth\":2,\"linecolor\":\"#506784\",\"showbackground\":true,\"ticks\":\"\",\"zerolinecolor\":\"#C8D4E3\"},\"yaxis\":{\"backgroundcolor\":\"rgb(17,17,17)\",\"gridcolor\":\"#506784\",\"gridwidth\":2,\"linecolor\":\"#506784\",\"showbackground\":true,\"ticks\":\"\",\"zerolinecolor\":\"#C8D4E3\"},\"zaxis\":{\"backgroundcolor\":\"rgb(17,17,17)\",\"gridcolor\":\"#506784\",\"gridwidth\":2,\"linecolor\":\"#506784\",\"showbackground\":true,\"ticks\":\"\",\"zerolinecolor\":\"#C8D4E3\"}},\"shapedefaults\":{\"line\":{\"color\":\"#f2f5fa\"}},\"sliderdefaults\":{\"bgcolor\":\"#C8D4E3\",\"bordercolor\":\"rgb(17,17,17)\",\"borderwidth\":1,\"tickwidth\":0},\"ternary\":{\"aaxis\":{\"gridcolor\":\"#506784\",\"linecolor\":\"#506784\",\"ticks\":\"\"},\"baxis\":{\"gridcolor\":\"#506784\",\"linecolor\":\"#506784\",\"ticks\":\"\"},\"bgcolor\":\"rgb(17,17,17)\",\"caxis\":{\"gridcolor\":\"#506784\",\"linecolor\":\"#506784\",\"ticks\":\"\"}},\"title\":{\"x\":0.05},\"updatemenudefaults\":{\"bgcolor\":\"#506784\",\"borderwidth\":0},\"xaxis\":{\"automargin\":true,\"gridcolor\":\"#283442\",\"linecolor\":\"#506784\",\"ticks\":\"\",\"title\":{\"standoff\":15},\"zerolinecolor\":\"#283442\",\"zerolinewidth\":2},\"yaxis\":{\"automargin\":true,\"gridcolor\":\"#283442\",\"linecolor\":\"#506784\",\"ticks\":\"\",\"title\":{\"standoff\":15},\"zerolinecolor\":\"#283442\",\"zerolinewidth\":2}}},\"xaxis\":{\"anchor\":\"y\",\"domain\":[0.0,1.0],\"title\":{\"text\":\"Population (Billions)\"}},\"yaxis\":{\"anchor\":\"x\",\"domain\":[0.0,1.0],\"title\":{\"text\":\"Fertility Rate\"}},\"coloraxis\":{\"colorbar\":{\"title\":{\"text\":\"Fertility Rate\"}},\"colorscale\":[[0.0,\"#440154\"],[0.1111111111111111,\"#482878\"],[0.2222222222222222,\"#3e4989\"],[0.3333333333333333,\"#31688e\"],[0.4444444444444444,\"#26828e\"],[0.5555555555555556,\"#1f9e89\"],[0.6666666666666666,\"#35b779\"],[0.7777777777777778,\"#6ece58\"],[0.8888888888888888,\"#b5de2b\"],[1.0,\"#fde725\"]]},\"legend\":{\"tracegroupgap\":0,\"itemsizing\":\"constant\"},\"title\":{\"text\":\"Bubble Chart: Fertility Rate vs Population with Land Area Size\"}},                        {\"responsive\": true}                    ).then(function(){\n",
              "                            \n",
              "var gd = document.getElementById('a47a55d1-4996-495d-a9d2-a9694b9ee73f');\n",
              "var x = new MutationObserver(function (mutations, observer) {{\n",
              "        var display = window.getComputedStyle(gd).display;\n",
              "        if (!display || display === 'none') {{\n",
              "            console.log([gd, 'removed!']);\n",
              "            Plotly.purge(gd);\n",
              "            observer.disconnect();\n",
              "        }}\n",
              "}});\n",
              "\n",
              "// Listen for the removal of the full notebook cells\n",
              "var notebookContainer = gd.closest('#notebook-container');\n",
              "if (notebookContainer) {{\n",
              "    x.observe(notebookContainer, {childList: true});\n",
              "}}\n",
              "\n",
              "// Listen for the clearing of the current output cell\n",
              "var outputEl = gd.closest('.output');\n",
              "if (outputEl) {{\n",
              "    x.observe(outputEl, {childList: true});\n",
              "}}\n",
              "\n",
              "                        })                };                            </script>        </div>\n",
              "</body>\n",
              "</html>"
            ]
          },
          "metadata": {}
        }
      ]
    },
    {
      "cell_type": "markdown",
      "source": [
        "Countries with higher Fertility Rates do not appear to neassecarily have higher population. this may also mean that fertility rates in counties with already high population is decreasing."
      ],
      "metadata": {
        "id": "ZLUg-n8hDs0f"
      }
    },
    {
      "cell_type": "markdown",
      "source": [
        "### Objective 3: Evaluate the Influence of Land Area on Population Density\n",
        "Land area significantly impacts population density, affecting infrastructure development, housing, and environmental sustainability. This objective aims to assess whether larger countries necessarily support higher populations or if population density depends more on other factors, such as economic opportunities or geographic constraints."
      ],
      "metadata": {
        "id": "8IZCod4vvyjL"
      }
    },
    {
      "cell_type": "code",
      "source": [
        "# Calculate Population Density\n",
        "df['Population Density'] = df['Population'] / df['Land Area']  # Population density = Population / Land Area\n",
        "\n",
        "# Interactive Density Map\n",
        "fig = px.scatter_geo(df,\n",
        "                     locations=\"Country\",\n",
        "                     locationmode=\"country names\",\n",
        "                     size=\"Population Density\",\n",
        "                     color=\"Population Density\",\n",
        "                     title=\"Global Population Density\",\n",
        "                     projection=\"natural earth\",\n",
        "                     hover_name=\"Country\")\n",
        "fig.update_layout(title_font_size=18)\n",
        "fig.show()\n"
      ],
      "metadata": {
        "id": "bnr6xcz3wY--",
        "colab": {
          "base_uri": "https://localhost:8080/",
          "height": 542
        },
        "outputId": "9c43f188-7503-41a3-f1d2-9b70ba6ecce4"
      },
      "execution_count": null,
      "outputs": [
        {
          "output_type": "display_data",
          "data": {
            "text/html": [
              "<html>\n",
              "<head><meta charset=\"utf-8\" /></head>\n",
              "<body>\n",
              "    <div>            <script src=\"https://cdnjs.cloudflare.com/ajax/libs/mathjax/2.7.5/MathJax.js?config=TeX-AMS-MML_SVG\"></script><script type=\"text/javascript\">if (window.MathJax && window.MathJax.Hub && window.MathJax.Hub.Config) {window.MathJax.Hub.Config({SVG: {font: \"STIX-Web\"}});}</script>                <script type=\"text/javascript\">window.PlotlyConfig = {MathJaxConfig: 'local'};</script>\n",
              "        <script charset=\"utf-8\" src=\"https://cdn.plot.ly/plotly-2.35.2.min.js\"></script>                <div id=\"2be79fb3-c1dc-4cec-9143-41eebd66c621\" class=\"plotly-graph-div\" style=\"height:525px; width:100%;\"></div>            <script type=\"text/javascript\">                                    window.PLOTLYENV=window.PLOTLYENV || {};                                    if (document.getElementById(\"2be79fb3-c1dc-4cec-9143-41eebd66c621\")) {                    Plotly.newPlot(                        \"2be79fb3-c1dc-4cec-9143-41eebd66c621\",                        [{\"geo\":\"geo\",\"hovertemplate\":\"\\u003cb\\u003e%{hovertext}\\u003c\\u002fb\\u003e\\u003cbr\\u003e\\u003cbr\\u003ePopulation Density=%{marker.color}\\u003cbr\\u003eCountry=%{location}\\u003cextra\\u003e\\u003c\\u002fextra\\u003e\",\"hovertext\":[\"India\",\"China\",\"United States\",\"Indonesia\",\"Pakistan\",\"Nigeria\",\"Brazil\",\"Bangladesh\",\"Russia\",\"Ethiopia\",\"Mexico\",\"Japan\",\"Egypt\",\"Philippines\",\"DR Congo\",\"Vietnam\",\"Iran\",\"Turkey\",\"Germany\",\"Thailand\",\"United Kingdom\",\"Tanzania\",\"France\",\"South Africa\",\"Italy\",\"Kenya\",\"Myanmar\",\"Colombia\",\"South Korea\",\"Sudan\",\"Uganda\",\"Spain\",\"Algeria\",\"Iraq\",\"Argentina\",\"Afghanistan\",\"Yemen\",\"Canada\",\"Poland\",\"Morocco\",\"Angola\",\"Ukraine\",\"Uzbekistan\",\"Malaysia\",\"Mozambique\",\"Ghana\",\"Peru\",\"Saudi Arabia\",\"Madagascar\",\"Côte d'Ivoire\",\"Nepal\",\"Cameroon\",\"Venezuela\",\"Niger\",\"Australia\",\"North Korea\",\"Syria\",\"Mali\",\"Burkina Faso\",\"Taiwan\",\"Sri Lanka\",\"Malawi\",\"Zambia\",\"Kazakhstan\",\"Chad\",\"Chile\",\"Romania\",\"Somalia\",\"Senegal\",\"Guatemala\",\"Netherlands\",\"Ecuador\",\"Cambodia\",\"Zimbabwe\",\"Guinea\",\"Benin\",\"Rwanda\",\"Burundi\",\"Bolivia\",\"Tunisia\",\"South Sudan\",\"Haiti\",\"Belgium\",\"Jordan\",\"Dominican Republic\",\"United Arab Emirates\",\"Cuba\",\"Honduras\",\"Czech Republic (Czechia)\",\"Sweden\",\"Tajikistan\",\"Papua New Guinea\",\"Portugal\",\"Azerbaijan\",\"Greece\",\"Hungary\",\"Togo\",\"Israel\",\"Austria\",\"Belarus\",\"Switzerland\",\"Sierra Leone\",\"Laos\",\"Turkmenistan\",\"Hong Kong\",\"Libya\",\"Kyrgyzstan\",\"Paraguay\",\"Nicaragua\",\"Bulgaria\",\"Serbia\",\"El Salvador\",\"Congo\",\"Denmark\",\"Singapore\",\"Lebanon\",\"Finland\",\"Liberia\",\"Norway\",\"Slovakia\",\"State of Palestine\",\"Central African Republic\",\"Oman\",\"Ireland\",\"New Zealand\",\"Mauritania\",\"Costa Rica\",\"Kuwait\",\"Panama\",\"Croatia\",\"Georgia\",\"Eritrea\",\"Mongolia\",\"Uruguay\",\"Puerto Rico\",\"Bosnia and Herzegovina\",\"Qatar\",\"Moldova\",\"Namibia\",\"Armenia\",\"Lithuania\",\"Jamaica\",\"Albania\",\"Gambia\",\"Gabon\",\"Botswana\",\"Lesotho\",\"Guinea-Bissau\",\"Slovenia\",\"Equatorial Guinea\",\"Latvia\",\"North Macedonia\",\"Bahrain\",\"Trinidad and Tobago\",\"Timor-Leste\",\"Estonia\",\"Cyprus\",\"Mauritius\",\"Eswatini\",\"Djibouti\",\"Fiji\",\"Réunion\",\"Comoros\",\"Guyana\",\"Solomon Islands\",\"Bhutan\",\"Macao\",\"Luxembourg\",\"Montenegro\",\"Suriname\",\"Western Sahara\",\"Malta\",\"Maldives\",\"Micronesia\",\"Cabo Verde\",\"Brunei\",\"Belize\",\"Bahamas\",\"Iceland\",\"Guadeloupe\",\"Martinique\",\"Vanuatu\",\"Mayotte\",\"French Guiana\",\"New Caledonia\",\"Barbados\",\"French Polynesia\",\"Sao Tome & Principe\",\"Samoa\",\"Curaçao\",\"Saint Lucia\",\"Guam\",\"Kiribati\",\"Seychelles\",\"Grenada\",\"Aruba\",\"Tonga\",\"St. Vincent & Grenadines\",\"Antigua and Barbuda\",\"U.S. Virgin Islands\",\"Isle of Man\",\"Andorra\",\"Cayman Islands\",\"Dominica\",\"Bermuda\",\"Greenland\",\"Faeroe Islands\",\"Saint Kitts & Nevis\",\"American Samoa\",\"Turks and Caicos\",\"Northern Mariana Islands\",\"Sint Maarten\",\"Liechtenstein\",\"British Virgin Islands\",\"Gibraltar\",\"Monaco\",\"Marshall Islands\",\"San Marino\",\"Caribbean Netherlands\",\"Saint Martin\",\"Palau\",\"Anguilla\",\"Cook Islands\",\"Nauru\",\"Wallis & Futuna\",\"Saint Barthelemy\",\"Tuvalu\",\"Saint Pierre & Miquelon\",\"Saint Helena\",\"Montserrat\",\"Falkland Islands\",\"Tokelau\",\"Niue\",\"Holy See\"],\"legendgroup\":\"\",\"locationmode\":\"country names\",\"locations\":[\"India\",\"China\",\"United States\",\"Indonesia\",\"Pakistan\",\"Nigeria\",\"Brazil\",\"Bangladesh\",\"Russia\",\"Ethiopia\",\"Mexico\",\"Japan\",\"Egypt\",\"Philippines\",\"DR Congo\",\"Vietnam\",\"Iran\",\"Turkey\",\"Germany\",\"Thailand\",\"United Kingdom\",\"Tanzania\",\"France\",\"South Africa\",\"Italy\",\"Kenya\",\"Myanmar\",\"Colombia\",\"South Korea\",\"Sudan\",\"Uganda\",\"Spain\",\"Algeria\",\"Iraq\",\"Argentina\",\"Afghanistan\",\"Yemen\",\"Canada\",\"Poland\",\"Morocco\",\"Angola\",\"Ukraine\",\"Uzbekistan\",\"Malaysia\",\"Mozambique\",\"Ghana\",\"Peru\",\"Saudi Arabia\",\"Madagascar\",\"Côte d'Ivoire\",\"Nepal\",\"Cameroon\",\"Venezuela\",\"Niger\",\"Australia\",\"North Korea\",\"Syria\",\"Mali\",\"Burkina Faso\",\"Taiwan\",\"Sri Lanka\",\"Malawi\",\"Zambia\",\"Kazakhstan\",\"Chad\",\"Chile\",\"Romania\",\"Somalia\",\"Senegal\",\"Guatemala\",\"Netherlands\",\"Ecuador\",\"Cambodia\",\"Zimbabwe\",\"Guinea\",\"Benin\",\"Rwanda\",\"Burundi\",\"Bolivia\",\"Tunisia\",\"South Sudan\",\"Haiti\",\"Belgium\",\"Jordan\",\"Dominican Republic\",\"United Arab Emirates\",\"Cuba\",\"Honduras\",\"Czech Republic (Czechia)\",\"Sweden\",\"Tajikistan\",\"Papua New Guinea\",\"Portugal\",\"Azerbaijan\",\"Greece\",\"Hungary\",\"Togo\",\"Israel\",\"Austria\",\"Belarus\",\"Switzerland\",\"Sierra Leone\",\"Laos\",\"Turkmenistan\",\"Hong Kong\",\"Libya\",\"Kyrgyzstan\",\"Paraguay\",\"Nicaragua\",\"Bulgaria\",\"Serbia\",\"El Salvador\",\"Congo\",\"Denmark\",\"Singapore\",\"Lebanon\",\"Finland\",\"Liberia\",\"Norway\",\"Slovakia\",\"State of Palestine\",\"Central African Republic\",\"Oman\",\"Ireland\",\"New Zealand\",\"Mauritania\",\"Costa Rica\",\"Kuwait\",\"Panama\",\"Croatia\",\"Georgia\",\"Eritrea\",\"Mongolia\",\"Uruguay\",\"Puerto Rico\",\"Bosnia and Herzegovina\",\"Qatar\",\"Moldova\",\"Namibia\",\"Armenia\",\"Lithuania\",\"Jamaica\",\"Albania\",\"Gambia\",\"Gabon\",\"Botswana\",\"Lesotho\",\"Guinea-Bissau\",\"Slovenia\",\"Equatorial Guinea\",\"Latvia\",\"North Macedonia\",\"Bahrain\",\"Trinidad and Tobago\",\"Timor-Leste\",\"Estonia\",\"Cyprus\",\"Mauritius\",\"Eswatini\",\"Djibouti\",\"Fiji\",\"Réunion\",\"Comoros\",\"Guyana\",\"Solomon Islands\",\"Bhutan\",\"Macao\",\"Luxembourg\",\"Montenegro\",\"Suriname\",\"Western Sahara\",\"Malta\",\"Maldives\",\"Micronesia\",\"Cabo Verde\",\"Brunei\",\"Belize\",\"Bahamas\",\"Iceland\",\"Guadeloupe\",\"Martinique\",\"Vanuatu\",\"Mayotte\",\"French Guiana\",\"New Caledonia\",\"Barbados\",\"French Polynesia\",\"Sao Tome & Principe\",\"Samoa\",\"Curaçao\",\"Saint Lucia\",\"Guam\",\"Kiribati\",\"Seychelles\",\"Grenada\",\"Aruba\",\"Tonga\",\"St. Vincent & Grenadines\",\"Antigua and Barbuda\",\"U.S. Virgin Islands\",\"Isle of Man\",\"Andorra\",\"Cayman Islands\",\"Dominica\",\"Bermuda\",\"Greenland\",\"Faeroe Islands\",\"Saint Kitts & Nevis\",\"American Samoa\",\"Turks and Caicos\",\"Northern Mariana Islands\",\"Sint Maarten\",\"Liechtenstein\",\"British Virgin Islands\",\"Gibraltar\",\"Monaco\",\"Marshall Islands\",\"San Marino\",\"Caribbean Netherlands\",\"Saint Martin\",\"Palau\",\"Anguilla\",\"Cook Islands\",\"Nauru\",\"Wallis & Futuna\",\"Saint Barthelemy\",\"Tuvalu\",\"Saint Pierre & Miquelon\",\"Saint Helena\",\"Montserrat\",\"Falkland Islands\",\"Tokelau\",\"Niue\",\"Holy See\"],\"marker\":{\"color\":[488.00641432266355,151.1812290967896,37.76218551241771,156.4874285840459,325.95107409713574,255.47556243618038,25.364324239603548,1333.3514941998924,8.842985442273157,132.059767,67.31706422490291,339.46329360453154,117.07093073484354,388.51551128550824,48.20196510884189,325.6931854097462,56.22654385803322,113.65695853851851,242.57586068395685,140.28070817592828,285.7776712272145,77.39913863174532,121.5371732988529,52.76375784154514,201.75041476847758,99.154766841199,83.42403985978662,47.66684362325372,531.9098015015942,28.582204563275333,250.31325759471497,96.05157578187651,19.655507318179147,106.00942853195801,16.69760148208237,65.32410011334743,76.86642044055533,4.370416923718124,125.85050778826373,85.32640152363881,30.388905911606642,65.35286370227163,85.47686647860837,108.22606300410897,44.039479640886086,151.3026896369869,26.73269375,15.798909145039516,54.94195721860793,100.422106918239,206.84376700383677,61.61017114086861,32.204005441868375,21.340816294308045,3.477240539942465,220.07161365335105,134.3612699449981,20.061297830665715,86.07010599415204,655.5764473312623,368.41915165045447,229.69119643614764,28.672642892694277,7.627725673222951,16.12065041296061,26.58227352689595,82.61323369683278,30.301193929926356,96.0992260946346,171.76520156774916,540.5913997627521,73.02092929618296,99.92522660321777,42.99954245831718,60.047147159368386,128.26112096488117,577.8908390758006,547.0321651090343,11.458797193759809,79.02361611740474,19.548848354698897,427.1609941944848,387.67381109643327,130.1292633476008,236.49745447019868,131.90345693779904,103.15466929725667,96.75308785414246,138.99351372345936,25.84929326899644,75.67109888539582,23.35490438546129,113.82565782290644,125.05234823005638,77.95048099301785,106.88318789351597,174.94458540172826,433.78100739371536,110.67738960550426,44.63405450692425,225.78148091912138,119.72876142975893,33.66472703639515,15.948115676802928,7061.818095238095,4.194859451902202,37.466157455683,17.440606594512964,57.47166361974406,62.248424834193074,77.0205351017608,305.8973455598456,18.544541727672033,140.87702097572472,8331.98142857143,567.5427174975562,18.484681957287176,58.27260174418605,15.267310577439032,114.51422392280818,912.8642857142858,8.556759446531188,17.064743134087237,76.28127449557265,19.801541908776727,5.015421558164355,100.46827262044653,276.9083613916947,60.7422249125639,69.25169764117227,54.79450280615916,35.005970297029705,2.23714565256572,19.349720031996345,365.52468996617813,62.04417647058823,262.5687338501292,92.38846270928462,3.680514763934944,104.45521601685985,45.618757379455595,262.1583564173592,101.88923357664234,272.7260869565217,9.8535025420111,4.448571630229562,76.99021739130434,78.28421052631579,105.19846077457795,67.469376114082,30.094389067524116,72.28425852498017,2114.5381578947367,293.9146198830409,94.19219905850706,32.09591884878509,147.00021645021644,626.1916256157635,72.25709302325582,50.41941328731665,50.83656267104543,351.4364,465.67866738312733,4.221930403860807,29.267524115755627,20.765642626649527,24008.733333333334,259.85945945945946,47.47055762081784,4.066865384615385,2.2199473684210527,1686.271875,1759.33,752.7471428571429,130.2424317617866,87.80284629981024,18.284612012275318,40.08821178821179,3.9241496259351623,221.95621301775148,323.7688679245283,26.889007383100903,870.68,3.75330900243309,16.008698030634573,656.9,76.99644808743169,245.35,77.03851590106007,417.7522522522523,294.6622950819672,310.69814814814816,166.0716049382716,283.5173913043478,344.7264705882353,600.3666666666667,144.6875,257.98974358974357,213.11818181818182,242.5857142857143,147.64912280701753,174.33617021276595,310.2375,88.27333333333333,1292.72,0.13604580338652697,39.684813753581665,180.16538461538462,233.825,48.98421052631579,96.25652173913043,1275.0,249.1875,263.14,3932.9,38631.0,208.6,559.6833333333333,93.52134146341463,493.0,38.46739130434783,162.2,57.204166666666666,597.35,80.55,536.0952380952381,321.53333333333336,24.469565217391306,13.428205128205128,43.89,0.28512736236647496,250.6,6.996153846153846,null],\"coloraxis\":\"coloraxis\",\"size\":[488.00641432266355,151.1812290967896,37.76218551241771,156.4874285840459,325.95107409713574,255.47556243618038,25.364324239603548,1333.3514941998924,8.842985442273157,132.059767,67.31706422490291,339.46329360453154,117.07093073484354,388.51551128550824,48.20196510884189,325.6931854097462,56.22654385803322,113.65695853851851,242.57586068395685,140.28070817592828,285.7776712272145,77.39913863174532,121.5371732988529,52.76375784154514,201.75041476847758,99.154766841199,83.42403985978662,47.66684362325372,531.9098015015942,28.582204563275333,250.31325759471497,96.05157578187651,19.655507318179147,106.00942853195801,16.69760148208237,65.32410011334743,76.86642044055533,4.370416923718124,125.85050778826373,85.32640152363881,30.388905911606642,65.35286370227163,85.47686647860837,108.22606300410897,44.039479640886086,151.3026896369869,26.73269375,15.798909145039516,54.94195721860793,100.422106918239,206.84376700383677,61.61017114086861,32.204005441868375,21.340816294308045,3.477240539942465,220.07161365335105,134.3612699449981,20.061297830665715,86.07010599415204,655.5764473312623,368.41915165045447,229.69119643614764,28.672642892694277,7.627725673222951,16.12065041296061,26.58227352689595,82.61323369683278,30.301193929926356,96.0992260946346,171.76520156774916,540.5913997627521,73.02092929618296,99.92522660321777,42.99954245831718,60.047147159368386,128.26112096488117,577.8908390758006,547.0321651090343,11.458797193759809,79.02361611740474,19.548848354698897,427.1609941944848,387.67381109643327,130.1292633476008,236.49745447019868,131.90345693779904,103.15466929725667,96.75308785414246,138.99351372345936,25.84929326899644,75.67109888539582,23.35490438546129,113.82565782290644,125.05234823005638,77.95048099301785,106.88318789351597,174.94458540172826,433.78100739371536,110.67738960550426,44.63405450692425,225.78148091912138,119.72876142975893,33.66472703639515,15.948115676802928,7061.818095238095,4.194859451902202,37.466157455683,17.440606594512964,57.47166361974406,62.248424834193074,77.0205351017608,305.8973455598456,18.544541727672033,140.87702097572472,8331.98142857143,567.5427174975562,18.484681957287176,58.27260174418605,15.267310577439032,114.51422392280818,912.8642857142858,8.556759446531188,17.064743134087237,76.28127449557265,19.801541908776727,5.015421558164355,100.46827262044653,276.9083613916947,60.7422249125639,69.25169764117227,54.79450280615916,35.005970297029705,2.23714565256572,19.349720031996345,365.52468996617813,62.04417647058823,262.5687338501292,92.38846270928462,3.680514763934944,104.45521601685985,45.618757379455595,262.1583564173592,101.88923357664234,272.7260869565217,9.8535025420111,4.448571630229562,76.99021739130434,78.28421052631579,105.19846077457795,67.469376114082,30.094389067524116,72.28425852498017,2114.5381578947367,293.9146198830409,94.19219905850706,32.09591884878509,147.00021645021644,626.1916256157635,72.25709302325582,50.41941328731665,50.83656267104543,351.4364,465.67866738312733,4.221930403860807,29.267524115755627,20.765642626649527,24008.733333333334,259.85945945945946,47.47055762081784,4.066865384615385,2.2199473684210527,1686.271875,1759.33,752.7471428571429,130.2424317617866,87.80284629981024,18.284612012275318,40.08821178821179,3.9241496259351623,221.95621301775148,323.7688679245283,26.889007383100903,870.68,3.75330900243309,16.008698030634573,656.9,76.99644808743169,245.35,77.03851590106007,417.7522522522523,294.6622950819672,310.69814814814816,166.0716049382716,283.5173913043478,344.7264705882353,600.3666666666667,144.6875,257.98974358974357,213.11818181818182,242.5857142857143,147.64912280701753,174.33617021276595,310.2375,88.27333333333333,1292.72,0.13604580338652697,39.684813753581665,180.16538461538462,233.825,48.98421052631579,96.25652173913043,1275.0,249.1875,263.14,3932.9,38631.0,208.6,559.6833333333333,93.52134146341463,493.0,38.46739130434783,162.2,57.204166666666666,597.35,80.55,536.0952380952381,321.53333333333336,24.469565217391306,13.428205128205128,43.89,0.28512736236647496,250.6,6.996153846153846,null],\"sizemode\":\"area\",\"sizeref\":null,\"symbol\":\"circle\"},\"mode\":\"markers\",\"name\":\"\",\"showlegend\":false,\"type\":\"scattergeo\"}],                        {\"template\":{\"data\":{\"histogram2dcontour\":[{\"type\":\"histogram2dcontour\",\"colorbar\":{\"outlinewidth\":0,\"ticks\":\"\"},\"colorscale\":[[0.0,\"#0d0887\"],[0.1111111111111111,\"#46039f\"],[0.2222222222222222,\"#7201a8\"],[0.3333333333333333,\"#9c179e\"],[0.4444444444444444,\"#bd3786\"],[0.5555555555555556,\"#d8576b\"],[0.6666666666666666,\"#ed7953\"],[0.7777777777777778,\"#fb9f3a\"],[0.8888888888888888,\"#fdca26\"],[1.0,\"#f0f921\"]]}],\"choropleth\":[{\"type\":\"choropleth\",\"colorbar\":{\"outlinewidth\":0,\"ticks\":\"\"}}],\"histogram2d\":[{\"type\":\"histogram2d\",\"colorbar\":{\"outlinewidth\":0,\"ticks\":\"\"},\"colorscale\":[[0.0,\"#0d0887\"],[0.1111111111111111,\"#46039f\"],[0.2222222222222222,\"#7201a8\"],[0.3333333333333333,\"#9c179e\"],[0.4444444444444444,\"#bd3786\"],[0.5555555555555556,\"#d8576b\"],[0.6666666666666666,\"#ed7953\"],[0.7777777777777778,\"#fb9f3a\"],[0.8888888888888888,\"#fdca26\"],[1.0,\"#f0f921\"]]}],\"heatmap\":[{\"type\":\"heatmap\",\"colorbar\":{\"outlinewidth\":0,\"ticks\":\"\"},\"colorscale\":[[0.0,\"#0d0887\"],[0.1111111111111111,\"#46039f\"],[0.2222222222222222,\"#7201a8\"],[0.3333333333333333,\"#9c179e\"],[0.4444444444444444,\"#bd3786\"],[0.5555555555555556,\"#d8576b\"],[0.6666666666666666,\"#ed7953\"],[0.7777777777777778,\"#fb9f3a\"],[0.8888888888888888,\"#fdca26\"],[1.0,\"#f0f921\"]]}],\"heatmapgl\":[{\"type\":\"heatmapgl\",\"colorbar\":{\"outlinewidth\":0,\"ticks\":\"\"},\"colorscale\":[[0.0,\"#0d0887\"],[0.1111111111111111,\"#46039f\"],[0.2222222222222222,\"#7201a8\"],[0.3333333333333333,\"#9c179e\"],[0.4444444444444444,\"#bd3786\"],[0.5555555555555556,\"#d8576b\"],[0.6666666666666666,\"#ed7953\"],[0.7777777777777778,\"#fb9f3a\"],[0.8888888888888888,\"#fdca26\"],[1.0,\"#f0f921\"]]}],\"contourcarpet\":[{\"type\":\"contourcarpet\",\"colorbar\":{\"outlinewidth\":0,\"ticks\":\"\"}}],\"contour\":[{\"type\":\"contour\",\"colorbar\":{\"outlinewidth\":0,\"ticks\":\"\"},\"colorscale\":[[0.0,\"#0d0887\"],[0.1111111111111111,\"#46039f\"],[0.2222222222222222,\"#7201a8\"],[0.3333333333333333,\"#9c179e\"],[0.4444444444444444,\"#bd3786\"],[0.5555555555555556,\"#d8576b\"],[0.6666666666666666,\"#ed7953\"],[0.7777777777777778,\"#fb9f3a\"],[0.8888888888888888,\"#fdca26\"],[1.0,\"#f0f921\"]]}],\"surface\":[{\"type\":\"surface\",\"colorbar\":{\"outlinewidth\":0,\"ticks\":\"\"},\"colorscale\":[[0.0,\"#0d0887\"],[0.1111111111111111,\"#46039f\"],[0.2222222222222222,\"#7201a8\"],[0.3333333333333333,\"#9c179e\"],[0.4444444444444444,\"#bd3786\"],[0.5555555555555556,\"#d8576b\"],[0.6666666666666666,\"#ed7953\"],[0.7777777777777778,\"#fb9f3a\"],[0.8888888888888888,\"#fdca26\"],[1.0,\"#f0f921\"]]}],\"mesh3d\":[{\"type\":\"mesh3d\",\"colorbar\":{\"outlinewidth\":0,\"ticks\":\"\"}}],\"scatter\":[{\"fillpattern\":{\"fillmode\":\"overlay\",\"size\":10,\"solidity\":0.2},\"type\":\"scatter\"}],\"parcoords\":[{\"type\":\"parcoords\",\"line\":{\"colorbar\":{\"outlinewidth\":0,\"ticks\":\"\"}}}],\"scatterpolargl\":[{\"type\":\"scatterpolargl\",\"marker\":{\"colorbar\":{\"outlinewidth\":0,\"ticks\":\"\"}}}],\"bar\":[{\"error_x\":{\"color\":\"#2a3f5f\"},\"error_y\":{\"color\":\"#2a3f5f\"},\"marker\":{\"line\":{\"color\":\"#E5ECF6\",\"width\":0.5},\"pattern\":{\"fillmode\":\"overlay\",\"size\":10,\"solidity\":0.2}},\"type\":\"bar\"}],\"scattergeo\":[{\"type\":\"scattergeo\",\"marker\":{\"colorbar\":{\"outlinewidth\":0,\"ticks\":\"\"}}}],\"scatterpolar\":[{\"type\":\"scatterpolar\",\"marker\":{\"colorbar\":{\"outlinewidth\":0,\"ticks\":\"\"}}}],\"histogram\":[{\"marker\":{\"pattern\":{\"fillmode\":\"overlay\",\"size\":10,\"solidity\":0.2}},\"type\":\"histogram\"}],\"scattergl\":[{\"type\":\"scattergl\",\"marker\":{\"colorbar\":{\"outlinewidth\":0,\"ticks\":\"\"}}}],\"scatter3d\":[{\"type\":\"scatter3d\",\"line\":{\"colorbar\":{\"outlinewidth\":0,\"ticks\":\"\"}},\"marker\":{\"colorbar\":{\"outlinewidth\":0,\"ticks\":\"\"}}}],\"scattermapbox\":[{\"type\":\"scattermapbox\",\"marker\":{\"colorbar\":{\"outlinewidth\":0,\"ticks\":\"\"}}}],\"scatterternary\":[{\"type\":\"scatterternary\",\"marker\":{\"colorbar\":{\"outlinewidth\":0,\"ticks\":\"\"}}}],\"scattercarpet\":[{\"type\":\"scattercarpet\",\"marker\":{\"colorbar\":{\"outlinewidth\":0,\"ticks\":\"\"}}}],\"carpet\":[{\"aaxis\":{\"endlinecolor\":\"#2a3f5f\",\"gridcolor\":\"white\",\"linecolor\":\"white\",\"minorgridcolor\":\"white\",\"startlinecolor\":\"#2a3f5f\"},\"baxis\":{\"endlinecolor\":\"#2a3f5f\",\"gridcolor\":\"white\",\"linecolor\":\"white\",\"minorgridcolor\":\"white\",\"startlinecolor\":\"#2a3f5f\"},\"type\":\"carpet\"}],\"table\":[{\"cells\":{\"fill\":{\"color\":\"#EBF0F8\"},\"line\":{\"color\":\"white\"}},\"header\":{\"fill\":{\"color\":\"#C8D4E3\"},\"line\":{\"color\":\"white\"}},\"type\":\"table\"}],\"barpolar\":[{\"marker\":{\"line\":{\"color\":\"#E5ECF6\",\"width\":0.5},\"pattern\":{\"fillmode\":\"overlay\",\"size\":10,\"solidity\":0.2}},\"type\":\"barpolar\"}],\"pie\":[{\"automargin\":true,\"type\":\"pie\"}]},\"layout\":{\"autotypenumbers\":\"strict\",\"colorway\":[\"#636efa\",\"#EF553B\",\"#00cc96\",\"#ab63fa\",\"#FFA15A\",\"#19d3f3\",\"#FF6692\",\"#B6E880\",\"#FF97FF\",\"#FECB52\"],\"font\":{\"color\":\"#2a3f5f\"},\"hovermode\":\"closest\",\"hoverlabel\":{\"align\":\"left\"},\"paper_bgcolor\":\"white\",\"plot_bgcolor\":\"#E5ECF6\",\"polar\":{\"bgcolor\":\"#E5ECF6\",\"angularaxis\":{\"gridcolor\":\"white\",\"linecolor\":\"white\",\"ticks\":\"\"},\"radialaxis\":{\"gridcolor\":\"white\",\"linecolor\":\"white\",\"ticks\":\"\"}},\"ternary\":{\"bgcolor\":\"#E5ECF6\",\"aaxis\":{\"gridcolor\":\"white\",\"linecolor\":\"white\",\"ticks\":\"\"},\"baxis\":{\"gridcolor\":\"white\",\"linecolor\":\"white\",\"ticks\":\"\"},\"caxis\":{\"gridcolor\":\"white\",\"linecolor\":\"white\",\"ticks\":\"\"}},\"coloraxis\":{\"colorbar\":{\"outlinewidth\":0,\"ticks\":\"\"}},\"colorscale\":{\"sequential\":[[0.0,\"#0d0887\"],[0.1111111111111111,\"#46039f\"],[0.2222222222222222,\"#7201a8\"],[0.3333333333333333,\"#9c179e\"],[0.4444444444444444,\"#bd3786\"],[0.5555555555555556,\"#d8576b\"],[0.6666666666666666,\"#ed7953\"],[0.7777777777777778,\"#fb9f3a\"],[0.8888888888888888,\"#fdca26\"],[1.0,\"#f0f921\"]],\"sequentialminus\":[[0.0,\"#0d0887\"],[0.1111111111111111,\"#46039f\"],[0.2222222222222222,\"#7201a8\"],[0.3333333333333333,\"#9c179e\"],[0.4444444444444444,\"#bd3786\"],[0.5555555555555556,\"#d8576b\"],[0.6666666666666666,\"#ed7953\"],[0.7777777777777778,\"#fb9f3a\"],[0.8888888888888888,\"#fdca26\"],[1.0,\"#f0f921\"]],\"diverging\":[[0,\"#8e0152\"],[0.1,\"#c51b7d\"],[0.2,\"#de77ae\"],[0.3,\"#f1b6da\"],[0.4,\"#fde0ef\"],[0.5,\"#f7f7f7\"],[0.6,\"#e6f5d0\"],[0.7,\"#b8e186\"],[0.8,\"#7fbc41\"],[0.9,\"#4d9221\"],[1,\"#276419\"]]},\"xaxis\":{\"gridcolor\":\"white\",\"linecolor\":\"white\",\"ticks\":\"\",\"title\":{\"standoff\":15},\"zerolinecolor\":\"white\",\"automargin\":true,\"zerolinewidth\":2},\"yaxis\":{\"gridcolor\":\"white\",\"linecolor\":\"white\",\"ticks\":\"\",\"title\":{\"standoff\":15},\"zerolinecolor\":\"white\",\"automargin\":true,\"zerolinewidth\":2},\"scene\":{\"xaxis\":{\"backgroundcolor\":\"#E5ECF6\",\"gridcolor\":\"white\",\"linecolor\":\"white\",\"showbackground\":true,\"ticks\":\"\",\"zerolinecolor\":\"white\",\"gridwidth\":2},\"yaxis\":{\"backgroundcolor\":\"#E5ECF6\",\"gridcolor\":\"white\",\"linecolor\":\"white\",\"showbackground\":true,\"ticks\":\"\",\"zerolinecolor\":\"white\",\"gridwidth\":2},\"zaxis\":{\"backgroundcolor\":\"#E5ECF6\",\"gridcolor\":\"white\",\"linecolor\":\"white\",\"showbackground\":true,\"ticks\":\"\",\"zerolinecolor\":\"white\",\"gridwidth\":2}},\"shapedefaults\":{\"line\":{\"color\":\"#2a3f5f\"}},\"annotationdefaults\":{\"arrowcolor\":\"#2a3f5f\",\"arrowhead\":0,\"arrowwidth\":1},\"geo\":{\"bgcolor\":\"white\",\"landcolor\":\"#E5ECF6\",\"subunitcolor\":\"white\",\"showland\":true,\"showlakes\":true,\"lakecolor\":\"white\"},\"title\":{\"x\":0.05},\"mapbox\":{\"style\":\"light\"}}},\"geo\":{\"domain\":{\"x\":[0.0,1.0],\"y\":[0.0,1.0]},\"projection\":{\"type\":\"natural earth\"},\"center\":{}},\"coloraxis\":{\"colorbar\":{\"title\":{\"text\":\"Population Density\"}},\"colorscale\":[[0.0,\"#0d0887\"],[0.1111111111111111,\"#46039f\"],[0.2222222222222222,\"#7201a8\"],[0.3333333333333333,\"#9c179e\"],[0.4444444444444444,\"#bd3786\"],[0.5555555555555556,\"#d8576b\"],[0.6666666666666666,\"#ed7953\"],[0.7777777777777778,\"#fb9f3a\"],[0.8888888888888888,\"#fdca26\"],[1.0,\"#f0f921\"]]},\"legend\":{\"tracegroupgap\":0,\"itemsizing\":\"constant\"},\"title\":{\"text\":\"Global Population Density\",\"font\":{\"size\":18}}},                        {\"responsive\": true}                    ).then(function(){\n",
              "                            \n",
              "var gd = document.getElementById('2be79fb3-c1dc-4cec-9143-41eebd66c621');\n",
              "var x = new MutationObserver(function (mutations, observer) {{\n",
              "        var display = window.getComputedStyle(gd).display;\n",
              "        if (!display || display === 'none') {{\n",
              "            console.log([gd, 'removed!']);\n",
              "            Plotly.purge(gd);\n",
              "            observer.disconnect();\n",
              "        }}\n",
              "}});\n",
              "\n",
              "// Listen for the removal of the full notebook cells\n",
              "var notebookContainer = gd.closest('#notebook-container');\n",
              "if (notebookContainer) {{\n",
              "    x.observe(notebookContainer, {childList: true});\n",
              "}}\n",
              "\n",
              "// Listen for the clearing of the current output cell\n",
              "var outputEl = gd.closest('.output');\n",
              "if (outputEl) {{\n",
              "    x.observe(outputEl, {childList: true});\n",
              "}}\n",
              "\n",
              "                        })                };                            </script>        </div>\n",
              "</body>\n",
              "</html>"
            ]
          },
          "metadata": {}
        }
      ]
    },
    {
      "cell_type": "markdown",
      "source": [
        "Countries like Monaco, Singapore, and Bangladesh have some of the highest population densities.\n",
        "Russia, Canada, and Australia have extremely low population densities due to their vast land areas."
      ],
      "metadata": {
        "id": "1EmrueIrEME4"
      }
    },
    {
      "cell_type": "markdown",
      "source": [
        "## Recommendations"
      ],
      "metadata": {
        "id": "FFGycjtnFHUQ"
      }
    },
    {
      "cell_type": "markdown",
      "source": [
        "1. Focus on Sustainable Development in High-Population Countries:\n",
        "India and China, with populations exceeding 1 billion, should prioritize sustainable urban planning, efficient resource management, and policies to address overpopulation challenges such as housing, healthcare, and education.\n",
        "\n",
        "2. Strengthen Infrastructure in Rapidly Growing African Nations:\n",
        "Nigeria and Ethiopia, as the only African countries in the top 10, should focus on expanding infrastructure, particularly in urban areas, to support their rapidly growing populations. Investments in transportation, energy, and water resources are critical.\n",
        "\n",
        "3. Promote Regional Collaboration for Population Management:\n",
        "Encourage countries with significant populations to collaborate regionally on shared challenges such as food security, migration, and climate adaptation to leverage collective resources and expertise.\n",
        "\n",
        "4. Invest in Family Planning and Education in High-Fertility, Low-Population Nations:\n",
        "Stakeholders in countries with high fertility rates but low overall population should focus on improving access to family planning services and educational programs. These efforts can empower individuals to make informed reproductive choices, contributing to sustainable population growth.\n",
        "\n",
        "5. Strengthen Healthcare Systems to Address Demographic Transitions:\n",
        "In nations with decreasing fertility rates and high populations, stakeholders should prioritize investments in healthcare systems, focusing on maternal and child health, to sustain population stability while supporting demographic transitions.\n",
        "\n",
        "6. Encourage Policy Adjustments Based on Population Dynamics:\n",
        "Governments and development organizations should tailor policies to the unique population trends in each country. For instance, incentivizing higher fertility in aging populations or moderating growth in regions where resources are under strain can help maintain economic balance and resource sustainability.\n",
        "\n",
        "7. Optimize Urban Planning in High-Density Countries:\n",
        "Countries like Monaco, Singapore, and Bangladesh should focus on innovative urban planning strategies, such as vertical housing, efficient public transportation systems, and green infrastructure, to manage space constraints while maintaining quality of life.\n",
        "\n",
        "8. Promote Regional Development in Low-Density Nations:\n",
        "In countries with vast land areas and low population densities, like Russia, Canada, and Australia, stakeholders should consider policies to incentivize settlement and economic activities in underutilized regions. This could include investments in transportation, communication networks, and resource management.\n",
        "\n",
        "9. Strengthen Environmental Conservation Efforts:\n",
        "Both high- and low-density countries should emphasize environmental conservation. High-density nations can promote sustainable development to mitigate the impacts of overcrowding, while low-density countries can leverage their vast natural resources responsibly to preserve ecosystems."
      ],
      "metadata": {
        "id": "rGGcOznKFGgs"
      }
    },
    {
      "cell_type": "code",
      "source": [],
      "metadata": {
        "id": "UhvJ__pfLcLK"
      },
      "execution_count": null,
      "outputs": []
    }
  ]
}